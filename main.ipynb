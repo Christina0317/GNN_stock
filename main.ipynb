{
 "cells": [
  {
   "cell_type": "code",
   "id": "initial_id",
   "metadata": {
    "collapsed": true,
    "ExecuteTime": {
     "end_time": "2024-08-01T07:24:55.646774Z",
     "start_time": "2024-08-01T07:24:53.931297Z"
    }
   },
   "source": [
    "import os\n",
    "os.environ['KMP_DUPLICATE_LIB_OK'] = 'True'\n",
    "import torch\n",
    "from data_local import FeatureType, StockData\n",
    "from training import TrainProcess\n",
    "import matplotlib.pyplot as plt\n",
    "import numpy as np\n",
    "import datetime"
   ],
   "outputs": [],
   "execution_count": 1
  },
  {
   "metadata": {
    "ExecuteTime": {
     "end_time": "2024-08-01T07:25:22.458653Z",
     "start_time": "2024-08-01T07:25:13.831505Z"
    }
   },
   "cell_type": "code",
   "source": [
    "start_time = datetime.datetime.now()\n",
    "stock_data = StockData(\n",
    "    start_date='20221201',\n",
    "    end_date='20221231',\n",
    "    features=[FeatureType.CLOSE]\n",
    ")\n",
    "data = stock_data.daily_data_from_h5()\n",
    "return_data = stock_data.calculate_return(data)\n",
    "end_time = datetime.datetime.now()\n",
    "print('Data is loaded successfully. Used time is', end_time - start_time)"
   ],
   "id": "8e961237fdd95d5a",
   "outputs": [
    {
     "name": "stdout",
     "output_type": "stream",
     "text": [
      "Data is loaded successfully. Used time is 0:00:08.624567\n"
     ]
    }
   ],
   "execution_count": 2
  },
  {
   "metadata": {
    "ExecuteTime": {
     "end_time": "2024-08-01T07:25:28.027044Z",
     "start_time": "2024-08-01T07:25:28.006960Z"
    }
   },
   "cell_type": "code",
   "source": [
    "num_epochs = 50\n",
    "batch_size = 5\n",
    "\n",
    "tp = TrainProcess(data, return_data, stock_data.features, stock_data.dates, stock_data.stock_ids, num_epochs, batch_size)"
   ],
   "id": "631067a86941fdbc",
   "outputs": [
    {
     "name": "stdout",
     "output_type": "stream",
     "text": [
      "The nan proportion / inf proportion is  0.4569965712167547 0.0\n",
      "Data is cleaned successfully. Used time is 0:00:00.017736\n"
     ]
    }
   ],
   "execution_count": 3
  },
  {
   "metadata": {
    "ExecuteTime": {
     "start_time": "2024-08-01T07:25:38.509491Z"
    }
   },
   "cell_type": "code",
   "source": [
    "print('Training begins')\n",
    "model, losses = tp.train_gnn_gru_model()\n",
    "\n",
    "plt.scatter(np.arange(len(losses)), losses)"
   ],
   "id": "118d54f9eb9faf43",
   "outputs": [
    {
     "name": "stdout",
     "output_type": "stream",
     "text": [
      "Training begins\n"
     ]
    }
   ],
   "execution_count": null
  },
  {
   "metadata": {},
   "cell_type": "code",
   "outputs": [],
   "execution_count": null,
   "source": "",
   "id": "6716a7a9a7b8b480"
  }
 ],
 "metadata": {
  "kernelspec": {
   "display_name": "Python 3",
   "language": "python",
   "name": "python3"
  },
  "language_info": {
   "codemirror_mode": {
    "name": "ipython",
    "version": 2
   },
   "file_extension": ".py",
   "mimetype": "text/x-python",
   "name": "python",
   "nbconvert_exporter": "python",
   "pygments_lexer": "ipython2",
   "version": "2.7.6"
  }
 },
 "nbformat": 4,
 "nbformat_minor": 5
}
